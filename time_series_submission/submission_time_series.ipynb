{
  "nbformat": 4,
  "nbformat_minor": 0,
  "metadata": {
    "colab": {
      "name": "submission_time_series.ipynb",
      "provenance": [],
      "collapsed_sections": []
    },
    "kernelspec": {
      "name": "python3",
      "display_name": "Python 3"
    }
  },
  "cells": [
    {
      "cell_type": "code",
      "metadata": {
        "id": "OVMZR-IOccA5",
        "colab_type": "code",
        "colab": {
          "base_uri": "https://localhost:8080/",
          "height": 36
        },
        "outputId": "a244ecb8-8646-4536-8f27-2aabcaaea279"
      },
      "source": [
        "import numpy as np\n",
        "import pandas as pd\n",
        "from keras.layers import Dense, LSTM\n",
        "import matplotlib.pyplot as plt\n",
        "import tensorflow as tf\n",
        "tf.keras.backend.floatx()"
      ],
      "execution_count": 142,
      "outputs": [
        {
          "output_type": "execute_result",
          "data": {
            "application/vnd.google.colaboratory.intrinsic+json": {
              "type": "string"
            },
            "text/plain": [
              "'float32'"
            ]
          },
          "metadata": {
            "tags": []
          },
          "execution_count": 142
        }
      ]
    },
    {
      "cell_type": "code",
      "metadata": {
        "id": "kmhSzlTyhRG1",
        "colab_type": "code",
        "colab": {
          "base_uri": "https://localhost:8080/",
          "height": 424
        },
        "outputId": "b3b028f5-8f75-4b5b-f5c1-81f39bc98ef2"
      },
      "source": [
        "# House Hold Energy Data - Time Series\n",
        "df = pd.read_csv('D202.csv')\n",
        "df"
      ],
      "execution_count": 143,
      "outputs": [
        {
          "output_type": "execute_result",
          "data": {
            "text/html": [
              "<div>\n",
              "<style scoped>\n",
              "    .dataframe tbody tr th:only-of-type {\n",
              "        vertical-align: middle;\n",
              "    }\n",
              "\n",
              "    .dataframe tbody tr th {\n",
              "        vertical-align: top;\n",
              "    }\n",
              "\n",
              "    .dataframe thead th {\n",
              "        text-align: right;\n",
              "    }\n",
              "</style>\n",
              "<table border=\"1\" class=\"dataframe\">\n",
              "  <thead>\n",
              "    <tr style=\"text-align: right;\">\n",
              "      <th></th>\n",
              "      <th>TYPE</th>\n",
              "      <th>DATE</th>\n",
              "      <th>START TIME</th>\n",
              "      <th>END TIME</th>\n",
              "      <th>USAGE</th>\n",
              "      <th>UNITS</th>\n",
              "      <th>COST</th>\n",
              "      <th>NOTES</th>\n",
              "    </tr>\n",
              "  </thead>\n",
              "  <tbody>\n",
              "    <tr>\n",
              "      <th>0</th>\n",
              "      <td>Electric usage</td>\n",
              "      <td>10/22/2016</td>\n",
              "      <td>0:00</td>\n",
              "      <td>0:14</td>\n",
              "      <td>0.01</td>\n",
              "      <td>kWh</td>\n",
              "      <td>$0.00</td>\n",
              "      <td>NaN</td>\n",
              "    </tr>\n",
              "    <tr>\n",
              "      <th>1</th>\n",
              "      <td>Electric usage</td>\n",
              "      <td>10/22/2016</td>\n",
              "      <td>0:15</td>\n",
              "      <td>0:29</td>\n",
              "      <td>0.01</td>\n",
              "      <td>kWh</td>\n",
              "      <td>$0.00</td>\n",
              "      <td>NaN</td>\n",
              "    </tr>\n",
              "    <tr>\n",
              "      <th>2</th>\n",
              "      <td>Electric usage</td>\n",
              "      <td>10/22/2016</td>\n",
              "      <td>0:30</td>\n",
              "      <td>0:44</td>\n",
              "      <td>0.01</td>\n",
              "      <td>kWh</td>\n",
              "      <td>$0.00</td>\n",
              "      <td>NaN</td>\n",
              "    </tr>\n",
              "    <tr>\n",
              "      <th>3</th>\n",
              "      <td>Electric usage</td>\n",
              "      <td>10/22/2016</td>\n",
              "      <td>0:45</td>\n",
              "      <td>0:59</td>\n",
              "      <td>0.01</td>\n",
              "      <td>kWh</td>\n",
              "      <td>$0.00</td>\n",
              "      <td>NaN</td>\n",
              "    </tr>\n",
              "    <tr>\n",
              "      <th>4</th>\n",
              "      <td>Electric usage</td>\n",
              "      <td>10/22/2016</td>\n",
              "      <td>1:00</td>\n",
              "      <td>1:14</td>\n",
              "      <td>0.01</td>\n",
              "      <td>kWh</td>\n",
              "      <td>$0.00</td>\n",
              "      <td>NaN</td>\n",
              "    </tr>\n",
              "    <tr>\n",
              "      <th>...</th>\n",
              "      <td>...</td>\n",
              "      <td>...</td>\n",
              "      <td>...</td>\n",
              "      <td>...</td>\n",
              "      <td>...</td>\n",
              "      <td>...</td>\n",
              "      <td>...</td>\n",
              "      <td>...</td>\n",
              "    </tr>\n",
              "    <tr>\n",
              "      <th>70363</th>\n",
              "      <td>Electric usage</td>\n",
              "      <td>10/24/2018</td>\n",
              "      <td>22:45</td>\n",
              "      <td>22:59</td>\n",
              "      <td>0.02</td>\n",
              "      <td>kWh</td>\n",
              "      <td>$0.00</td>\n",
              "      <td>NaN</td>\n",
              "    </tr>\n",
              "    <tr>\n",
              "      <th>70364</th>\n",
              "      <td>Electric usage</td>\n",
              "      <td>10/24/2018</td>\n",
              "      <td>23:00</td>\n",
              "      <td>23:14</td>\n",
              "      <td>0.03</td>\n",
              "      <td>kWh</td>\n",
              "      <td>$0.01</td>\n",
              "      <td>NaN</td>\n",
              "    </tr>\n",
              "    <tr>\n",
              "      <th>70365</th>\n",
              "      <td>Electric usage</td>\n",
              "      <td>10/24/2018</td>\n",
              "      <td>23:15</td>\n",
              "      <td>23:29</td>\n",
              "      <td>0.03</td>\n",
              "      <td>kWh</td>\n",
              "      <td>$0.01</td>\n",
              "      <td>NaN</td>\n",
              "    </tr>\n",
              "    <tr>\n",
              "      <th>70366</th>\n",
              "      <td>Electric usage</td>\n",
              "      <td>10/24/2018</td>\n",
              "      <td>23:30</td>\n",
              "      <td>23:44</td>\n",
              "      <td>0.03</td>\n",
              "      <td>kWh</td>\n",
              "      <td>$0.01</td>\n",
              "      <td>NaN</td>\n",
              "    </tr>\n",
              "    <tr>\n",
              "      <th>70367</th>\n",
              "      <td>Electric usage</td>\n",
              "      <td>10/24/2018</td>\n",
              "      <td>23:45</td>\n",
              "      <td>23:59</td>\n",
              "      <td>0.03</td>\n",
              "      <td>kWh</td>\n",
              "      <td>$0.01</td>\n",
              "      <td>NaN</td>\n",
              "    </tr>\n",
              "  </tbody>\n",
              "</table>\n",
              "<p>70368 rows × 8 columns</p>\n",
              "</div>"
            ],
            "text/plain": [
              "                 TYPE        DATE START TIME  ... UNITS    COST NOTES\n",
              "0      Electric usage  10/22/2016       0:00  ...   kWh  $0.00    NaN\n",
              "1      Electric usage  10/22/2016       0:15  ...   kWh  $0.00    NaN\n",
              "2      Electric usage  10/22/2016       0:30  ...   kWh  $0.00    NaN\n",
              "3      Electric usage  10/22/2016       0:45  ...   kWh  $0.00    NaN\n",
              "4      Electric usage  10/22/2016       1:00  ...   kWh  $0.00    NaN\n",
              "...               ...         ...        ...  ...   ...     ...   ...\n",
              "70363  Electric usage  10/24/2018      22:45  ...   kWh  $0.00    NaN\n",
              "70364  Electric usage  10/24/2018      23:00  ...   kWh  $0.01    NaN\n",
              "70365  Electric usage  10/24/2018      23:15  ...   kWh  $0.01    NaN\n",
              "70366  Electric usage  10/24/2018      23:30  ...   kWh  $0.01    NaN\n",
              "70367  Electric usage  10/24/2018      23:45  ...   kWh  $0.01    NaN\n",
              "\n",
              "[70368 rows x 8 columns]"
            ]
          },
          "metadata": {
            "tags": []
          },
          "execution_count": 143
        }
      ]
    },
    {
      "cell_type": "code",
      "metadata": {
        "id": "7t5tl7ZHhs8X",
        "colab_type": "code",
        "colab": {
          "base_uri": "https://localhost:8080/",
          "height": 187
        },
        "outputId": "566b8f5e-be9e-4861-df29-a5a400b9b53d"
      },
      "source": [
        "df.isnull().sum()"
      ],
      "execution_count": 144,
      "outputs": [
        {
          "output_type": "execute_result",
          "data": {
            "text/plain": [
              "TYPE              0\n",
              "DATE              0\n",
              "START TIME        0\n",
              "END TIME          0\n",
              "USAGE             0\n",
              "UNITS             0\n",
              "COST              0\n",
              "NOTES         70368\n",
              "dtype: int64"
            ]
          },
          "metadata": {
            "tags": []
          },
          "execution_count": 144
        }
      ]
    },
    {
      "cell_type": "code",
      "metadata": {
        "id": "LL_3kPGL7jYD",
        "colab_type": "code",
        "colab": {
          "base_uri": "https://localhost:8080/",
          "height": 55
        },
        "outputId": "de221c85-c5cb-443c-f3b0-ef57ee2b9e97"
      },
      "source": [
        "df_baru = df.drop(columns=['TYPE','START TIME','END TIME','UNITS','COST','NOTES'])\n",
        "# mencari niai USAGE paling rendah\n",
        "print(df_baru['USAGE'].max())\n",
        "# mencari nilai USAGE paling tinggi\n",
        "print(df_baru['USAGE'].min())"
      ],
      "execution_count": 145,
      "outputs": [
        {
          "output_type": "stream",
          "text": [
            "2.36\n",
            "0.0\n"
          ],
          "name": "stdout"
        }
      ]
    },
    {
      "cell_type": "code",
      "metadata": {
        "id": "J69GXxGBl-Du",
        "colab_type": "code",
        "colab": {
          "base_uri": "https://localhost:8080/",
          "height": 612
        },
        "outputId": "644508c4-d767-4904-e938-91a919665caa"
      },
      "source": [
        "    date = df['DATE'].values\n",
        "    usage = df['USAGE'].values\n",
        "\n",
        "    plt.figure(figsize=(20,10))\n",
        "    plt.plot(date,usage)\n",
        "    plt.ylabel('Usage')\n",
        "    plt.title('Electric Usage from 2016-2018',\n",
        "              fontsize=20);"
      ],
      "execution_count": 146,
      "outputs": [
        {
          "output_type": "display_data",
          "data": {
            "image/png": "[encoded data removed]",
            "text/plain": [
              "<Figure size 1440x720 with 1 Axes>"
            ]
          },
          "metadata": {
            "tags": [],
            "needs_background": "light"
          }
        }
      ]
    },
    {
      "cell_type": "code",
      "metadata": {
        "id": "AI0Dw_wQzOwv",
        "colab_type": "code",
        "colab": {}
      },
      "source": [
        "from sklearn.model_selection import train_test_split\n",
        "data_latih, data_test, label_latih, label_test = train_test_split(usage, date, test_size=0.2)"
      ],
      "execution_count": 147,
      "outputs": []
    },
    {
      "cell_type": "code",
      "metadata": {
        "id": "Wz_ydqa-qAOp",
        "colab_type": "code",
        "colab": {}
      },
      "source": [
        "    def windowed_dataset(series, window_size, batch_size, shuffle_buffer):\n",
        "        series = tf.expand_dims(series, axis=-1)\n",
        "        ds = tf.data.Dataset.from_tensor_slices(series)\n",
        "        ds = ds.window(window_size + 1, shift=1, drop_remainder=True)\n",
        "        ds = ds.flat_map(lambda w: w.batch(window_size + 1))\n",
        "        ds = ds.shuffle(shuffle_buffer)\n",
        "        ds = ds.map(lambda w: (w[:-1], w[1:]))\n",
        "        return ds.batch(batch_size).prefetch(1)"
      ],
      "execution_count": 148,
      "outputs": []
    },
    {
      "cell_type": "code",
      "metadata": {
        "id": "IHRHdQkws-PO",
        "colab_type": "code",
        "colab": {}
      },
      "source": [
        "    train_set = windowed_dataset(data_latih, window_size=60, batch_size=5000, shuffle_buffer=1000)\n",
        "    val_set = windowed_dataset(data_test, window_size=60, batch_size=5000, shuffle_buffer=1000)\n",
        "    model = tf.keras.models.Sequential([\n",
        "      tf.keras.layers.LSTM(60, return_sequences=True),\n",
        "      tf.keras.layers.LSTM(60),\n",
        "      tf.keras.layers.Dense(30, activation=\"relu\"),\n",
        "      tf.keras.layers.Dense(10, activation=\"relu\"),\n",
        "      tf.keras.layers.Dense(1),\n",
        "    ])"
      ],
      "execution_count": 149,
      "outputs": []
    },
    {
      "cell_type": "code",
      "metadata": {
        "id": "pcEDKT2EVl44",
        "colab_type": "code",
        "colab": {}
      },
      "source": [
        "class myCallback(tf.keras.callbacks.Callback):\n",
        "  def on_epoch_end(self, epoch, logs={}):\n",
        "    if(logs.get('mae') < 0.236) :\n",
        "      print(\"\\nMAE kurang dari 10%\")\n",
        "      self.model.stop_training = True\n",
        "callbacks = myCallback()"
      ],
      "execution_count": 150,
      "outputs": []
    },
    {
      "cell_type": "code",
      "metadata": {
        "id": "kKZCI3fAtNNz",
        "colab_type": "code",
        "colab": {
          "base_uri": "https://localhost:8080/",
          "height": 225
        },
        "outputId": "2191dbe1-095d-4eaa-84e5-2f0c1a6c99bb"
      },
      "source": [
        "    optimizer = tf.keras.optimizers.SGD(lr=1.0000e-04, momentum=0.9)\n",
        "    model.compile(loss=tf.keras.losses.Huber(),\n",
        "                  optimizer=optimizer,\n",
        "                  metrics=[\"mae\"])\n",
        "    history = model.fit(train_set, epochs=30, callbacks=[callbacks], validation_data=(val_set))"
      ],
      "execution_count": 151,
      "outputs": [
        {
          "output_type": "stream",
          "text": [
            "Epoch 1/30\n",
            "WARNING:tensorflow:Layer lstm_26 is casting an input tensor from dtype float64 to the layer's dtype of float32, which is new behavior in TensorFlow 2.  The layer has dtype float32 because its dtype defaults to floatx.\n",
            "\n",
            "If you intended to run this layer in float32, you can safely ignore this warning. If in doubt, this warning is likely only an issue if you are porting a TensorFlow 1.X model to TensorFlow 2.\n",
            "\n",
            "To change all layers to have dtype float64 by default, call `tf.keras.backend.set_floatx('float64')`. To change just this layer, pass dtype='float64' to the layer constructor. If you are the author of this layer, you can disable autocasting by passing autocast=False to the base Layer constructor.\n",
            "\n",
            "     12/Unknown - 38s 3s/step - loss: 0.0272 - mae: 0.1189\n",
            "MAE kurang dari 10%\n",
            "12/12 [==============================] - 44s 4s/step - loss: 0.0272 - mae: 0.1189 - val_loss: 0.0266 - val_mae: 0.1178\n"
          ],
          "name": "stdout"
        }
      ]
    },
    {
      "cell_type": "code",
      "metadata": {
        "id": "z3DOjLqiRAas",
        "colab_type": "code",
        "colab": {}
      },
      "source": [
        "import matplotlib.pyplot as plt"
      ],
      "execution_count": 152,
      "outputs": []
    },
    {
      "cell_type": "code",
      "metadata": {
        "id": "p4EATYgkRC_y",
        "colab_type": "code",
        "colab": {
          "base_uri": "https://localhost:8080/",
          "height": 295
        },
        "outputId": "4c5eba23-b368-4516-de3f-e0e05960e091"
      },
      "source": [
        "plt.plot(history.history['loss'])\n",
        "plt.title('Model Train')\n",
        "plt.ylabel('Loss')\n",
        "plt.xlabel('Epoch')\n",
        "plt.legend(['Train'], loc='upper right')\n",
        "plt.show()"
      ],
      "execution_count": 153,
      "outputs": [
        {
          "output_type": "display_data",
          "data": {
            "image/png": "[encoded data removed]",
            "text/plain": [
              "<Figure size 432x288 with 1 Axes>"
            ]
          },
          "metadata": {
            "tags": [],
            "needs_background": "light"
          }
        }
      ]
    },
    {
      "cell_type": "code",
      "metadata": {
        "id": "v-8fiqYxRLg_",
        "colab_type": "code",
        "colab": {
          "base_uri": "https://localhost:8080/",
          "height": 295
        },
        "outputId": "a5a17b4f-ea18-4d7d-a98f-bf8fc558da79"
      },
      "source": [
        "plt.plot(history.history['val_loss'])\n",
        "plt.title('Model Validasi')\n",
        "plt.ylabel('loss')\n",
        "plt.xlabel('Epoch')\n",
        "plt.legend(['Train'], loc='upper right')\n",
        "plt.show()"
      ],
      "execution_count": 154,
      "outputs": [
        {
          "output_type": "display_data",
          "data": {
            "image/png": "[encoded data removed]",
            "text/plain": [
              "<Figure size 432x288 with 1 Axes>"
            ]
          },
          "metadata": {
            "tags": [],
            "needs_background": "light"
          }
        }
      ]
    }
  ]
}